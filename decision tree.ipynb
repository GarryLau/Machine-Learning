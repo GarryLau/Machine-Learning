{
 "cells": [
  {
   "cell_type": "code",
   "execution_count": 13,
   "metadata": {},
   "outputs": [
    {
     "name": "stdout",
     "output_type": "stream",
     "text": [
      "[1]\n",
      "[[ 0.  1.]]\n"
     ]
    }
   ],
   "source": [
    "from sklearn import tree\n",
    "X = [[0,0], [1,1]]\n",
    "Y = [0,1]\n",
    "clf = tree.DecisionTreeClassifier()\n",
    "clf = clf.fit(X, Y)                       #拟合X，Y\n",
    "pre = clf.predict([[2,2]])                #给定X预测其Y值\n",
    "print(pre)\n",
    "pro = clf.predict_proba([[2,2]])          #计算[2,2]分别属于0类的概率和属于1类的概率\n",
    "print(pro)"
   ]
  }
 ],
 "metadata": {
  "kernelspec": {
   "display_name": "Python 3",
   "language": "python",
   "name": "python3"
  },
  "language_info": {
   "codemirror_mode": {
    "name": "ipython",
    "version": 3
   },
   "file_extension": ".py",
   "mimetype": "text/x-python",
   "name": "python",
   "nbconvert_exporter": "python",
   "pygments_lexer": "ipython3",
   "version": "3.6.1"
  }
 },
 "nbformat": 4,
 "nbformat_minor": 2
}
